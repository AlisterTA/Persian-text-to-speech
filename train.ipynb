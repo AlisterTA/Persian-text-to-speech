{
 "cells": [
  {
   "cell_type": "code",
   "execution_count": 1,
   "metadata": {},
   "outputs": [],
   "source": [
    "import sys\n",
    "from tqdm import tqdm\n",
    "import tensorflow as tf\n",
    "sys.path.append('tools')\n",
    "%load_ext autoreload\n",
    "%autoreload 2\n",
    "#from Gragh import ModelGraph\n",
    "from model_graph_test import model"
   ]
  },
  {
   "cell_type": "code",
   "execution_count": 2,
   "metadata": {},
   "outputs": [],
   "source": [
    "#use training_text2sp for training text to mel\n",
    "#use training_superresolution for training super resolution network\n",
    "gr=model('...DATA PATH...','training_text2sp')"
   ]
  },
  {
   "cell_type": "code",
   "execution_count": null,
   "metadata": {},
   "outputs": [],
   "source": [
    "#The supervisor takes care of session initialization and all that jazz     \n",
    "# Use tqdm for progress bar\n",
    "#https://github.com/petewarden/tensorflow_makefile/blob/master/tensorflow/g3doc/api_docs/python/functions_and_classes/tf.train.Supervisor.md\n",
    "logdir = 'logs/text-to-spec'\n",
    "#config = tf.ConfigProto(allow_soft_placement = True)\n",
    "sv = tf.train.Supervisor(logdir=logdir, save_model_secs=0, global_step=gr.global_step)\n",
    "with sv.managed_session() as sess:\n",
    "    while True:\n",
    "            for _ in tqdm(range(gr.num_batch), total=gr.num_batch, ncols=70, leave=False, unit='b'):\n",
    "                global_s,_=sess.run([gr.global_step,gr.train_operation])\n",
    "                #print(global_s)\n",
    "                if global_s % 1000 == 0:\n",
    "                    sv.saver.save(sess, logdir + '/model_gs_{}'.format(str(global_s // 1000).zfill(3) + \"k\"))"
   ]
  }
 ],
 "metadata": {
  "kernelspec": {
   "display_name": "Python 3",
   "language": "python",
   "name": "python3"
  },
  "language_info": {
   "codemirror_mode": {
    "name": "ipython",
    "version": 3
   },
   "file_extension": ".py",
   "mimetype": "text/x-python",
   "name": "python",
   "nbconvert_exporter": "python",
   "pygments_lexer": "ipython3",
   "version": "3.5.2"
  }
 },
 "nbformat": 4,
 "nbformat_minor": 2
}
